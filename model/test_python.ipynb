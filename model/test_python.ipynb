{
 "cells": [
  {
   "cell_type": "code",
   "execution_count": 1,
   "id": "offensive-aside",
   "metadata": {},
   "outputs": [],
   "source": [
    "import argparse\n",
    "import os\n",
    "import os.path as osp\n",
    "import tempfile\n",
    "import warnings\n",
    "\n",
    "import mmcv\n",
    "import numpy as np\n",
    "import pandas as pd\n",
    "import torch\n",
    "from df2coco import df2coco\n",
    "from mmcv import Config, DictAction\n",
    "from mmcv.cnn import fuse_conv_bn\n",
    "from mmcv.parallel import MMDataParallel, MMDistributedDataParallel\n",
    "from mmcv.runner import get_dist_info, init_dist, load_checkpoint, wrap_fp16_model\n",
    "from mmdet.apis import multi_gpu_test, single_gpu_test\n",
    "from mmdet.datasets import build_dataloader, build_dataset, replace_ImageToTensor\n",
    "from mmdet.models import build_detector\n",
    "from tqdm.notebook import tqdm"
   ]
  },
  {
   "cell_type": "code",
   "execution_count": 56,
   "id": "communist-degree",
   "metadata": {},
   "outputs": [],
   "source": [
    "config_path = \"/home/semyon/projects/mmdetection/work_dirs/config_2x/config_2x.py\"\n",
    "checkpoint_path = \"/home/semyon/projects/mmdetection/work_dirs/config_2x/epoch_12.pth\"\n",
    "\n",
    "csv_path = (\n",
    "    \"/home/semyon/data/VinBigData/custom_dfs/weighted_boxes_fusion_iou-0.20_fold-0.csv\"\n",
    ")\n",
    "prefix = \"/home/semyon/data/VinBigData/train/\""
   ]
  },
  {
   "cell_type": "code",
   "execution_count": 57,
   "id": "worse-dressing",
   "metadata": {},
   "outputs": [],
   "source": [
    "def inference_on_csv(csv, img_root, config, checkpoint_path, output_path):\n",
    "    '''\n",
    "    \n",
    "    :param csv_path: path or pandas.DataFrame object\n",
    "    :param config_path: path or mmcv.utils.config.Config object\n",
    "    :param checkpoint_path: pth to model checkpoint\n",
    "    :return: df with predicted bboxes in the format of challenge\n",
    "    '''\n",
    "    if isinstance(csv, pd.DataFrame):\n",
    "        tmp_csv_path = tempfile.mktemp()\n",
    "        csv.to_csv(tmp_csv_path, index=False)\n",
    "        csv = tmp_csv_path\n",
    "        \n",
    "    json_path = tempfile.mktemp() + \".json\"\n",
    "    df2coco(csv, json_path, img_prefix=img_root)\n",
    "    \n",
    "\n",
    "    if not isinstance(config, Config):\n",
    "        config = Config.fromfile(config)\n",
    "        \n",
    "    config.merge_from_dict(dict(data=dict(test=dict(ann_file=json_path, img_prefix=img_root))))\n",
    "    cfg = config\n",
    "    # ======================= predict ==============\n",
    "    # ==============================================\n",
    "    dataset = build_dataset(cfg.data.test)\n",
    "\n",
    "    data_loader = build_dataloader(\n",
    "        dataset,\n",
    "        samples_per_gpu=1,\n",
    "        workers_per_gpu=cfg.data.workers_per_gpu,\n",
    "        dist=False,\n",
    "        shuffle=False,\n",
    "    )\n",
    "\n",
    "    # build the model and load checkpoint\n",
    "    cfg.model.train_cfg = None\n",
    "    model = build_detector(cfg.model, test_cfg=cfg.get(\"test_cfg\"))\n",
    "    fp16_cfg = cfg.get(\"fp16\", None)\n",
    "    if fp16_cfg is not None:\n",
    "        wrap_fp16_model(model)\n",
    "    checkpoint = load_checkpoint(model, checkpoint_path, map_location=\"cpu\")\n",
    "    # old versions did not save class info in checkpoints, this walkaround is\n",
    "    # for backward compatibility\n",
    "    if \"CLASSES\" in checkpoint[\"meta\"]:\n",
    "        model.CLASSES = checkpoint[\"meta\"][\"CLASSES\"]\n",
    "    else:\n",
    "        model.CLASSES = dataset.CLASSES\n",
    "    CLASSES = model.CLASSES\n",
    "\n",
    "    model = MMDataParallel(model, device_ids=[0])\n",
    "    outputs = single_gpu_test(model, data_loader)\n",
    "\n",
    "    image_ids = [i[\"filename\"].split(\".npy\")[0] for i in data_loader.dataset.data_infos]\n",
    "\n",
    "    total_image_id = []\n",
    "    total_class_names = []\n",
    "    total_rad_id = []\n",
    "    total_x_min = []\n",
    "    total_y_min = []\n",
    "    total_x_max = []\n",
    "    total_y_max = []\n",
    "\n",
    "    for image_id, result in zip(image_ids, outputs):\n",
    "        for class_name, per_class_result in zip(CLASSES, result):\n",
    "            bboxes = per_class_result[:, :-1]\n",
    "            scores = per_class_result[:, -1]\n",
    "            bboxes = np.around(bboxes).astype(np.uint64)\n",
    "            for score, bbox in zip(scores, bboxes):\n",
    "                total_image_id.append(image_id)\n",
    "                total_class_names.append(class_name)\n",
    "                total_rad_id.append(score)\n",
    "                total_x_min.append(bbox[0])\n",
    "                total_y_min.append(bbox[1])\n",
    "                total_x_max.append(bbox[2])\n",
    "                total_y_max.append(bbox[3])\n",
    "\n",
    "    new_df = pd.DataFrame(\n",
    "        dict(\n",
    "            image_id=total_image_id,\n",
    "            class_name=total_class_names,\n",
    "            class_id=-1,\n",
    "            rad_id=total_rad_id,\n",
    "            x_min=total_x_min,\n",
    "            y_min=total_y_min,\n",
    "            x_max=total_x_max,\n",
    "            y_max=total_y_max,\n",
    "        )\n",
    "    )\n",
    "\n",
    "    # pathology ids corresponding to challenge\n",
    "    class2id = {\n",
    "        \"Aortic enlargement\": 0,\n",
    "        \"Atelectasis\": 1,\n",
    "        \"Calcification\": 2,\n",
    "        \"Cardiomegaly\": 3,\n",
    "        \"Consolidation\": 4,\n",
    "        \"ILD\": 5,\n",
    "        \"Infiltration\": 6,\n",
    "        \"Lung Opacity\": 7,\n",
    "        \"No finding\": 14,\n",
    "        \"Nodule/Mass\": 8,\n",
    "        \"Other lesion\": 9,\n",
    "        \"Pleural effusion\": 10,\n",
    "        \"Pleural thickening\": 11,\n",
    "        \"Pneumothorax\": 12,\n",
    "        \"Pulmonary fibrosis\": 13,\n",
    "    }\n",
    "\n",
    "    new_df.class_id = new_df.class_name.apply(lambda x: class2id[x])\n",
    "    # ==============================================\n",
    "    # ===================end========================\n",
    "    \n",
    "    new_df.to_csv(output_path, index=False)\n",
    "\n",
    "    return new_df"
   ]
  },
  {
   "cell_type": "code",
   "execution_count": 58,
   "id": "regulation-healing",
   "metadata": {},
   "outputs": [
    {
     "name": "stderr",
     "output_type": "stream",
     "text": [
      "100%|██████████| 885/885 [00:05<00:00, 175.59it/s]\n"
     ]
    },
    {
     "name": "stdout",
     "output_type": "stream",
     "text": [
      "loading annotations into memory...\n",
      "Done (t=0.01s)\n",
      "creating index...\n",
      "index created!\n"
     ]
    },
    {
     "name": "stderr",
     "output_type": "stream",
     "text": [
      "2021-02-17 11:26:54,752 - mmdet - INFO - load model from: torchvision://resnet50\n",
      "2021-02-17 11:26:54,895 - mmdet - WARNING - The model and loaded state dict do not match exactly\n",
      "\n",
      "unexpected key in source state_dict: fc.weight, fc.bias\n",
      "\n"
     ]
    },
    {
     "name": "stdout",
     "output_type": "stream",
     "text": [
      "[>>>>>>>>>>>>>>>>>>>>>>>>>>>>>] 885/885, 17.0 task/s, elapsed: 52s, ETA:     0s"
     ]
    },
    {
     "data": {
      "text/html": [
       "<div>\n",
       "<style scoped>\n",
       "    .dataframe tbody tr th:only-of-type {\n",
       "        vertical-align: middle;\n",
       "    }\n",
       "\n",
       "    .dataframe tbody tr th {\n",
       "        vertical-align: top;\n",
       "    }\n",
       "\n",
       "    .dataframe thead th {\n",
       "        text-align: right;\n",
       "    }\n",
       "</style>\n",
       "<table border=\"1\" class=\"dataframe\">\n",
       "  <thead>\n",
       "    <tr style=\"text-align: right;\">\n",
       "      <th></th>\n",
       "      <th>image_id</th>\n",
       "      <th>class_name</th>\n",
       "      <th>class_id</th>\n",
       "      <th>rad_id</th>\n",
       "      <th>x_min</th>\n",
       "      <th>y_min</th>\n",
       "      <th>x_max</th>\n",
       "      <th>y_max</th>\n",
       "    </tr>\n",
       "  </thead>\n",
       "  <tbody>\n",
       "    <tr>\n",
       "      <th>0</th>\n",
       "      <td>1c32170b4af4ce1a3030eb8167753b06</td>\n",
       "      <td>Aortic enlargement</td>\n",
       "      <td>0</td>\n",
       "      <td>0.742828</td>\n",
       "      <td>1242</td>\n",
       "      <td>745</td>\n",
       "      <td>1494</td>\n",
       "      <td>1037</td>\n",
       "    </tr>\n",
       "    <tr>\n",
       "      <th>1</th>\n",
       "      <td>1c32170b4af4ce1a3030eb8167753b06</td>\n",
       "      <td>Cardiomegaly</td>\n",
       "      <td>3</td>\n",
       "      <td>0.148044</td>\n",
       "      <td>1042</td>\n",
       "      <td>1593</td>\n",
       "      <td>1905</td>\n",
       "      <td>2215</td>\n",
       "    </tr>\n",
       "    <tr>\n",
       "      <th>2</th>\n",
       "      <td>1c32170b4af4ce1a3030eb8167753b06</td>\n",
       "      <td>ILD</td>\n",
       "      <td>5</td>\n",
       "      <td>0.107955</td>\n",
       "      <td>230</td>\n",
       "      <td>468</td>\n",
       "      <td>1127</td>\n",
       "      <td>2390</td>\n",
       "    </tr>\n",
       "    <tr>\n",
       "      <th>3</th>\n",
       "      <td>1c32170b4af4ce1a3030eb8167753b06</td>\n",
       "      <td>ILD</td>\n",
       "      <td>5</td>\n",
       "      <td>0.062743</td>\n",
       "      <td>334</td>\n",
       "      <td>1272</td>\n",
       "      <td>958</td>\n",
       "      <td>2148</td>\n",
       "    </tr>\n",
       "    <tr>\n",
       "      <th>4</th>\n",
       "      <td>1c32170b4af4ce1a3030eb8167753b06</td>\n",
       "      <td>Pleural thickening</td>\n",
       "      <td>11</td>\n",
       "      <td>0.174364</td>\n",
       "      <td>485</td>\n",
       "      <td>443</td>\n",
       "      <td>653</td>\n",
       "      <td>696</td>\n",
       "    </tr>\n",
       "    <tr>\n",
       "      <th>...</th>\n",
       "      <td>...</td>\n",
       "      <td>...</td>\n",
       "      <td>...</td>\n",
       "      <td>...</td>\n",
       "      <td>...</td>\n",
       "      <td>...</td>\n",
       "      <td>...</td>\n",
       "      <td>...</td>\n",
       "    </tr>\n",
       "    <tr>\n",
       "      <th>17543</th>\n",
       "      <td>1224f07d895107573588225f692e94f9</td>\n",
       "      <td>Aortic enlargement</td>\n",
       "      <td>0</td>\n",
       "      <td>0.098755</td>\n",
       "      <td>924</td>\n",
       "      <td>670</td>\n",
       "      <td>1316</td>\n",
       "      <td>1133</td>\n",
       "    </tr>\n",
       "    <tr>\n",
       "      <th>17544</th>\n",
       "      <td>1224f07d895107573588225f692e94f9</td>\n",
       "      <td>Cardiomegaly</td>\n",
       "      <td>3</td>\n",
       "      <td>0.684686</td>\n",
       "      <td>727</td>\n",
       "      <td>1329</td>\n",
       "      <td>1543</td>\n",
       "      <td>1672</td>\n",
       "    </tr>\n",
       "    <tr>\n",
       "      <th>17545</th>\n",
       "      <td>1224f07d895107573588225f692e94f9</td>\n",
       "      <td>Pleural thickening</td>\n",
       "      <td>11</td>\n",
       "      <td>0.059977</td>\n",
       "      <td>1151</td>\n",
       "      <td>395</td>\n",
       "      <td>1417</td>\n",
       "      <td>471</td>\n",
       "    </tr>\n",
       "    <tr>\n",
       "      <th>17546</th>\n",
       "      <td>1224f07d895107573588225f692e94f9</td>\n",
       "      <td>Pleural thickening</td>\n",
       "      <td>11</td>\n",
       "      <td>0.057828</td>\n",
       "      <td>627</td>\n",
       "      <td>391</td>\n",
       "      <td>862</td>\n",
       "      <td>477</td>\n",
       "    </tr>\n",
       "    <tr>\n",
       "      <th>17547</th>\n",
       "      <td>1224f07d895107573588225f692e94f9</td>\n",
       "      <td>Pleural thickening</td>\n",
       "      <td>11</td>\n",
       "      <td>0.051094</td>\n",
       "      <td>1172</td>\n",
       "      <td>389</td>\n",
       "      <td>1345</td>\n",
       "      <td>436</td>\n",
       "    </tr>\n",
       "  </tbody>\n",
       "</table>\n",
       "<p>17548 rows × 8 columns</p>\n",
       "</div>"
      ],
      "text/plain": [
       "                               image_id          class_name  class_id  \\\n",
       "0      1c32170b4af4ce1a3030eb8167753b06  Aortic enlargement         0   \n",
       "1      1c32170b4af4ce1a3030eb8167753b06        Cardiomegaly         3   \n",
       "2      1c32170b4af4ce1a3030eb8167753b06                 ILD         5   \n",
       "3      1c32170b4af4ce1a3030eb8167753b06                 ILD         5   \n",
       "4      1c32170b4af4ce1a3030eb8167753b06  Pleural thickening        11   \n",
       "...                                 ...                 ...       ...   \n",
       "17543  1224f07d895107573588225f692e94f9  Aortic enlargement         0   \n",
       "17544  1224f07d895107573588225f692e94f9        Cardiomegaly         3   \n",
       "17545  1224f07d895107573588225f692e94f9  Pleural thickening        11   \n",
       "17546  1224f07d895107573588225f692e94f9  Pleural thickening        11   \n",
       "17547  1224f07d895107573588225f692e94f9  Pleural thickening        11   \n",
       "\n",
       "         rad_id  x_min  y_min  x_max  y_max  \n",
       "0      0.742828   1242    745   1494   1037  \n",
       "1      0.148044   1042   1593   1905   2215  \n",
       "2      0.107955    230    468   1127   2390  \n",
       "3      0.062743    334   1272    958   2148  \n",
       "4      0.174364    485    443    653    696  \n",
       "...         ...    ...    ...    ...    ...  \n",
       "17543  0.098755    924    670   1316   1133  \n",
       "17544  0.684686    727   1329   1543   1672  \n",
       "17545  0.059977   1151    395   1417    471  \n",
       "17546  0.057828    627    391    862    477  \n",
       "17547  0.051094   1172    389   1345    436  \n",
       "\n",
       "[17548 rows x 8 columns]"
      ]
     },
     "execution_count": 58,
     "metadata": {},
     "output_type": "execute_result"
    }
   ],
   "source": [
    "inference_on_csv(csv_path, prefix, config_path, checkpoint_path, 'tmp.csv')"
   ]
  },
  {
   "cell_type": "code",
   "execution_count": 59,
   "id": "disturbed-consistency",
   "metadata": {},
   "outputs": [],
   "source": [
    "from map_at_th import get_mean_average_precision"
   ]
  },
  {
   "cell_type": "code",
   "execution_count": 60,
   "id": "alive-calculation",
   "metadata": {},
   "outputs": [
    {
     "data": {
      "text/plain": [
       "(0.26065609737323636,\n",
       " {'Aortic enlargement': (0.9259009144523968, 620.0),\n",
       "  'Atelectasis': (0.13100775193798453, 43.0),\n",
       "  'Calcification': (0.042668325246989026, 142.0),\n",
       "  'Cardiomegaly': (0.928416919560368, 464.0),\n",
       "  'Consolidation': (0.27810105737228985, 82.0),\n",
       "  'ILD': (0.1291875373052414, 125.0),\n",
       "  'Infiltration': (0.1635433656860694, 172.0),\n",
       "  'Lung Opacity': (0.20503180012040106, 368.0),\n",
       "  'Nodule/Mass': (0.11512736682510119, 388.0),\n",
       "  'Other lesion': (0.0209477213938567, 323.0),\n",
       "  'Pleural effusion': (0.37163289452730724, 285.0),\n",
       "  'Pleural thickening': (0.16837390919731493, 679.0),\n",
       "  'Pneumothorax': (0.005291005291005291, 21.0),\n",
       "  'Pulmonary fibrosis': (0.16395479430898377, 539.0)})"
      ]
     },
     "execution_count": 60,
     "metadata": {},
     "output_type": "execute_result"
    }
   ],
   "source": [
    "get_mean_average_precision(\n",
    "    csv_path,\n",
    "    'tmp.csv'\n",
    ")"
   ]
  },
  {
   "cell_type": "markdown",
   "id": "concerned-cursor",
   "metadata": {},
   "source": [
    "### Check 2 outputs"
   ]
  },
  {
   "cell_type": "code",
   "execution_count": 13,
   "id": "indirect-catholic",
   "metadata": {},
   "outputs": [],
   "source": [
    "import pickle\n",
    "\n",
    "RESULT_FILE = \"/tmp/tmpzgzncoat.pkl\"\n",
    "outputs2 = pickle.load(open(RESULT_FILE, \"rb\"))"
   ]
  },
  {
   "cell_type": "code",
   "execution_count": 17,
   "id": "focused-footwear",
   "metadata": {},
   "outputs": [],
   "source": [
    "import numpy as np"
   ]
  },
  {
   "cell_type": "code",
   "execution_count": 23,
   "id": "super-protocol",
   "metadata": {},
   "outputs": [],
   "source": [
    "o1 = np.concatenate([np.concatenate(i) for i in outputs])\n",
    "o2 = np.concatenate([np.concatenate(i) for i in outputs2])"
   ]
  },
  {
   "cell_type": "code",
   "execution_count": 24,
   "id": "prospective-likelihood",
   "metadata": {},
   "outputs": [
    {
     "data": {
      "text/plain": [
       "True"
      ]
     },
     "execution_count": 24,
     "metadata": {},
     "output_type": "execute_result"
    }
   ],
   "source": [
    "np.allclose(o1, o2)"
   ]
  },
  {
   "cell_type": "code",
   "execution_count": 26,
   "id": "detected-northeast",
   "metadata": {},
   "outputs": [
    {
     "data": {
      "text/plain": [
       "True"
      ]
     },
     "execution_count": 26,
     "metadata": {},
     "output_type": "execute_result"
    }
   ],
   "source": [
    "np.equal(o1, o2).all()"
   ]
  },
  {
   "cell_type": "code",
   "execution_count": null,
   "id": "elder-lesson",
   "metadata": {},
   "outputs": [],
   "source": []
  }
 ],
 "metadata": {
  "kernelspec": {
   "display_name": "Python (open-mmlab)",
   "language": "python",
   "name": "open-mmlab"
  },
  "language_info": {
   "codemirror_mode": {
    "name": "ipython",
    "version": 3
   },
   "file_extension": ".py",
   "mimetype": "text/x-python",
   "name": "python",
   "nbconvert_exporter": "python",
   "pygments_lexer": "ipython3",
   "version": "3.7.9"
  },
  "pycharm": {
   "stem_cell": {
    "cell_type": "raw",
    "source": [],
    "metadata": {
     "collapsed": false
    }
   }
  }
 },
 "nbformat": 4,
 "nbformat_minor": 5
}