{
 "cells": [
  {
   "cell_type": "code",
   "execution_count": 1,
   "metadata": {},
   "outputs": [],
   "source": [
    "from mmdet.apis import init_detector, inference_detector, show_result_pyplot"
   ]
  },
  {
   "cell_type": "code",
   "execution_count": 2,
   "metadata": {},
   "outputs": [],
   "source": [
    "import pandas as pd\n",
    "import numpy as np\n",
    "import os.path as osp"
   ]
  },
  {
   "cell_type": "code",
   "execution_count": 3,
   "metadata": {},
   "outputs": [],
   "source": [
    "config_file = '/home/semyon/projects/mmdetection/configs/vinbigdata/config.py'\n",
    "# download the checkpoint from model zoo and put it in `checkpoints/`\n",
    "# url: http://download.openmmlab.com/mmdetection/v2.0/faster_rcnn/faster_rcnn_r50_fpn_1x_coco/faster_rcnn_r50_fpn_1x_coco_20200130-047c8118.pth\n",
    "checkpoint_file = '/home/semyon/projects/mmdetection/work_dirs/config_2x/epoch_24.pth'\n",
    "device = 'cuda:0'\n",
    "# init a detector\n",
    "model = init_detector(config_file, checkpoint_file, device=device)"
   ]
  },
  {
   "cell_type": "code",
   "execution_count": 4,
   "metadata": {},
   "outputs": [],
   "source": [
    "dir_path = '/home/semyon/data/VinBigData/train'\n",
    "df = pd.read_csv('/home/semyon/data/VinBigData/custom_dfs/weighted_boxes_fusion_iou-0.20_fold-0.csv')"
   ]
  },
  {
   "cell_type": "code",
   "execution_count": 4,
   "metadata": {},
   "outputs": [],
   "source": [
    "dir_path = '/home/semyon/data/VinBigData/test'\n",
    "df = pd.read_csv('/home/semyon/data/VinBigData/sample_submission.csv')"
   ]
  },
  {
   "cell_type": "code",
   "execution_count": 16,
   "metadata": {},
   "outputs": [
    {
     "data": {
      "text/html": [
       "<div>\n",
       "<style scoped>\n",
       "    .dataframe tbody tr th:only-of-type {\n",
       "        vertical-align: middle;\n",
       "    }\n",
       "\n",
       "    .dataframe tbody tr th {\n",
       "        vertical-align: top;\n",
       "    }\n",
       "\n",
       "    .dataframe thead th {\n",
       "        text-align: right;\n",
       "    }\n",
       "</style>\n",
       "<table border=\"1\" class=\"dataframe\">\n",
       "  <thead>\n",
       "    <tr style=\"text-align: right;\">\n",
       "      <th></th>\n",
       "      <th>image_id</th>\n",
       "      <th>class_name</th>\n",
       "      <th>class_id</th>\n",
       "      <th>rad_id</th>\n",
       "      <th>x_min</th>\n",
       "      <th>y_min</th>\n",
       "      <th>x_max</th>\n",
       "      <th>y_max</th>\n",
       "    </tr>\n",
       "  </thead>\n",
       "  <tbody>\n",
       "  </tbody>\n",
       "</table>\n",
       "</div>"
      ],
      "text/plain": [
       "Empty DataFrame\n",
       "Columns: [image_id, class_name, class_id, rad_id, x_min, y_min, x_max, y_max]\n",
       "Index: []"
      ]
     },
     "execution_count": 16,
     "metadata": {},
     "output_type": "execute_result"
    }
   ],
   "source": [
    "new_df = pd.DataFrame(columns=['image_id', 'class_name', 'class_id', 'rad_id', 'x_min', 'y_min',\n",
    "       'x_max', 'y_max'])\n",
    "new_df"
   ]
  },
  {
   "cell_type": "code",
   "execution_count": 5,
   "metadata": {},
   "outputs": [],
   "source": [
    "from tqdm.notebook import tqdm"
   ]
  },
  {
   "cell_type": "code",
   "execution_count": 6,
   "metadata": {},
   "outputs": [],
   "source": [
    "failed = []"
   ]
  },
  {
   "cell_type": "code",
   "execution_count": 7,
   "metadata": {},
   "outputs": [
    {
     "data": {
      "application/vnd.jupyter.widget-view+json": {
       "model_id": "74970dc6ccde471aaf35a62bf0f035f5",
       "version_major": 2,
       "version_minor": 0
      },
      "text/plain": [
       "  0%|          | 0/4251 [00:00<?, ?it/s]"
      ]
     },
     "metadata": {},
     "output_type": "display_data"
    },
    {
     "name": "stderr",
     "output_type": "stream",
     "text": [
      "/home/semyon/projects/mmdetection/mmdet/datasets/utils.py:60: UserWarning: \"ImageToTensor\" pipeline is replaced by \"DefaultFormatBundle\" for batch inference. It is recommended to manually replace it in the test data pipeline in your config file.\n",
      "  'data pipeline in your config file.', UserWarning)\n"
     ]
    },
    {
     "ename": "KeyboardInterrupt",
     "evalue": "",
     "output_type": "error",
     "traceback": [
      "\u001b[0;31m---------------------------------------------------------------------------\u001b[0m",
      "\u001b[0;31mKeyboardInterrupt\u001b[0m                         Traceback (most recent call last)",
      "\u001b[0;32m<ipython-input-7-96f4c9d22faf>\u001b[0m in \u001b[0;36m<module>\u001b[0;34m\u001b[0m\n\u001b[1;32m     18\u001b[0m     \u001b[38;5;28;01mcontinue\u001b[39;00m\n\u001b[1;32m     19\u001b[0m img \u001b[38;5;241m=\u001b[39m np\u001b[38;5;241m.\u001b[39mrepeat(img[\u001b[38;5;241m.\u001b[39m\u001b[38;5;241m.\u001b[39m\u001b[38;5;241m.\u001b[39m,\u001b[38;5;28;01mNone\u001b[39;00m],\u001b[38;5;241m3\u001b[39m,\u001b[38;5;241m-\u001b[39m\u001b[38;5;241m1\u001b[39m)\n\u001b[0;32m---> 20\u001b[0m result \u001b[38;5;241m=\u001b[39m \u001b[48;5;17minference_detector\u001b[49m\u001b[48;5;17m(\u001b[49m\u001b[48;5;17mmodel\u001b[49m\u001b[48;5;17m,\u001b[49m\u001b[48;5;17m \u001b[49m\u001b[48;5;17mimg\u001b[49m\u001b[48;5;17m)\u001b[49m\n\u001b[1;32m     22\u001b[0m \u001b[38;5;28;01mfor\u001b[39;00m class_name, per_class_result \u001b[38;5;129;01min\u001b[39;00m \u001b[38;5;28mzip\u001b[39m(model\u001b[38;5;241m.\u001b[39mCLASSES, result):\n\u001b[1;32m     23\u001b[0m     bboxes \u001b[38;5;241m=\u001b[39m per_class_result[:, :\u001b[38;5;241m-\u001b[39m\u001b[38;5;241m1\u001b[39m]\n",
      "\u001b[0;32m~/projects/mmdetection/mmdet/apis/inference.py\u001b[0m in \u001b[0;36minference_detector\u001b[0;34m(model, img)\u001b[0m\n\u001b[1;32m    108\u001b[0m cfg\u001b[38;5;241m.\u001b[39mdata\u001b[38;5;241m.\u001b[39mtest\u001b[38;5;241m.\u001b[39mpipeline \u001b[38;5;241m=\u001b[39m replace_ImageToTensor(cfg\u001b[38;5;241m.\u001b[39mdata\u001b[38;5;241m.\u001b[39mtest\u001b[38;5;241m.\u001b[39mpipeline)\n\u001b[1;32m    109\u001b[0m test_pipeline \u001b[38;5;241m=\u001b[39m Compose(cfg\u001b[38;5;241m.\u001b[39mdata\u001b[38;5;241m.\u001b[39mtest\u001b[38;5;241m.\u001b[39mpipeline)\n\u001b[0;32m--> 110\u001b[0m data \u001b[38;5;241m=\u001b[39m \u001b[48;5;17mtest_pipeline\u001b[49m\u001b[48;5;17m(\u001b[49m\u001b[48;5;17mdata\u001b[49m\u001b[48;5;17m)\u001b[49m\n\u001b[1;32m    111\u001b[0m data \u001b[38;5;241m=\u001b[39m collate([data], samples_per_gpu\u001b[38;5;241m=\u001b[39m\u001b[38;5;241m1\u001b[39m)\n\u001b[1;32m    112\u001b[0m \u001b[38;5;66;03m# just get the actual data from DataContainer\u001b[39;00m\n",
      "\u001b[0;32m~/projects/mmdetection/mmdet/datasets/pipelines/compose.py\u001b[0m in \u001b[0;36mCompose.__call__\u001b[0;34m(self, data)\u001b[0m\n\u001b[1;32m     30\u001b[0m \u001b[38;5;124;03m\"\"\"Call function to apply transforms sequentially.\u001b[39;00m\n\u001b[1;32m     31\u001b[0m \n\u001b[1;32m     32\u001b[0m \u001b[38;5;124;03mArgs:\u001b[39;00m\n\u001b[0;32m   (...)\u001b[0m\n\u001b[1;32m     36\u001b[0m \u001b[38;5;124;03m   dict: Transformed data.\u001b[39;00m\n\u001b[1;32m     37\u001b[0m \u001b[38;5;124;03m\"\"\"\u001b[39;00m\n\u001b[1;32m     39\u001b[0m \u001b[38;5;28;01mfor\u001b[39;00m t \u001b[38;5;129;01min\u001b[39;00m \u001b[38;5;28mself\u001b[39m\u001b[38;5;241m.\u001b[39mtransforms:\n\u001b[0;32m---> 40\u001b[0m     data \u001b[38;5;241m=\u001b[39m \u001b[48;5;17mt\u001b[49m\u001b[48;5;17m(\u001b[49m\u001b[48;5;17mdata\u001b[49m\u001b[48;5;17m)\u001b[49m\n\u001b[1;32m     41\u001b[0m     \u001b[38;5;28;01mif\u001b[39;00m data \u001b[38;5;129;01mis\u001b[39;00m \u001b[38;5;28;01mNone\u001b[39;00m:\n\u001b[1;32m     42\u001b[0m         \u001b[38;5;28;01mreturn\u001b[39;00m \u001b[38;5;28;01mNone\u001b[39;00m\n",
      "\u001b[0;32m~/projects/mmdetection/mmdet/datasets/pipelines/test_time_aug.py\u001b[0m in \u001b[0;36mMultiScaleFlipAug.__call__\u001b[0;34m(self, results)\u001b[0m\n\u001b[1;32m    103\u001b[0m         _results[\u001b[38;5;124m'\u001b[39m\u001b[38;5;124mflip\u001b[39m\u001b[38;5;124m'\u001b[39m] \u001b[38;5;241m=\u001b[39m flip\n\u001b[1;32m    104\u001b[0m         _results[\u001b[38;5;124m'\u001b[39m\u001b[38;5;124mflip_direction\u001b[39m\u001b[38;5;124m'\u001b[39m] \u001b[38;5;241m=\u001b[39m direction\n\u001b[0;32m--> 105\u001b[0m         data \u001b[38;5;241m=\u001b[39m \u001b[38;5;28;48;5;17mself\u001b[39;49m\u001b[38;5;241;48;5;17m.\u001b[39;49m\u001b[48;5;17mtransforms\u001b[49m\u001b[48;5;17m(\u001b[49m\u001b[48;5;17m_results\u001b[49m\u001b[48;5;17m)\u001b[49m\n\u001b[1;32m    106\u001b[0m         aug_data\u001b[38;5;241m.\u001b[39mappend(data)\n\u001b[1;32m    107\u001b[0m \u001b[38;5;66;03m# list of dict to dict of list\u001b[39;00m\n",
      "\u001b[0;32m~/projects/mmdetection/mmdet/datasets/pipelines/compose.py\u001b[0m in \u001b[0;36mCompose.__call__\u001b[0;34m(self, data)\u001b[0m\n\u001b[1;32m     30\u001b[0m \u001b[38;5;124;03m\"\"\"Call function to apply transforms sequentially.\u001b[39;00m\n\u001b[1;32m     31\u001b[0m \n\u001b[1;32m     32\u001b[0m \u001b[38;5;124;03mArgs:\u001b[39;00m\n\u001b[0;32m   (...)\u001b[0m\n\u001b[1;32m     36\u001b[0m \u001b[38;5;124;03m   dict: Transformed data.\u001b[39;00m\n\u001b[1;32m     37\u001b[0m \u001b[38;5;124;03m\"\"\"\u001b[39;00m\n\u001b[1;32m     39\u001b[0m \u001b[38;5;28;01mfor\u001b[39;00m t \u001b[38;5;129;01min\u001b[39;00m \u001b[38;5;28mself\u001b[39m\u001b[38;5;241m.\u001b[39mtransforms:\n\u001b[0;32m---> 40\u001b[0m     data \u001b[38;5;241m=\u001b[39m \u001b[48;5;17mt\u001b[49m\u001b[48;5;17m(\u001b[49m\u001b[48;5;17mdata\u001b[49m\u001b[48;5;17m)\u001b[49m\n\u001b[1;32m     41\u001b[0m     \u001b[38;5;28;01mif\u001b[39;00m data \u001b[38;5;129;01mis\u001b[39;00m \u001b[38;5;28;01mNone\u001b[39;00m:\n\u001b[1;32m     42\u001b[0m         \u001b[38;5;28;01mreturn\u001b[39;00m \u001b[38;5;28;01mNone\u001b[39;00m\n",
      "\u001b[0;32m~/projects/mmdetection/mmdet/datasets/pipelines/transforms.py\u001b[0m in \u001b[0;36mNormalize.__call__\u001b[0;34m(self, results)\u001b[0m\n\u001b[1;32m    564\u001b[0m \u001b[38;5;124;03m\"\"\"Call function to normalize images.\u001b[39;00m\n\u001b[1;32m    565\u001b[0m \n\u001b[1;32m    566\u001b[0m \u001b[38;5;124;03mArgs:\u001b[39;00m\n\u001b[0;32m   (...)\u001b[0m\n\u001b[1;32m    571\u001b[0m \u001b[38;5;124;03m        result dict.\u001b[39;00m\n\u001b[1;32m    572\u001b[0m \u001b[38;5;124;03m\"\"\"\u001b[39;00m\n\u001b[1;32m    573\u001b[0m \u001b[38;5;28;01mfor\u001b[39;00m key \u001b[38;5;129;01min\u001b[39;00m results\u001b[38;5;241m.\u001b[39mget(\u001b[38;5;124m'\u001b[39m\u001b[38;5;124mimg_fields\u001b[39m\u001b[38;5;124m'\u001b[39m, [\u001b[38;5;124m'\u001b[39m\u001b[38;5;124mimg\u001b[39m\u001b[38;5;124m'\u001b[39m]):\n\u001b[1;32m    574\u001b[0m     results[key] \u001b[38;5;241m=\u001b[39m \u001b[48;5;17mmmcv\u001b[49m\u001b[38;5;241;48;5;17m.\u001b[39;49m\u001b[48;5;17mimnormalize\u001b[49m\u001b[48;5;17m(\u001b[49m\u001b[48;5;17mresults\u001b[49m\u001b[48;5;17m[\u001b[49m\u001b[48;5;17mkey\u001b[49m\u001b[48;5;17m]\u001b[49m\u001b[48;5;17m,\u001b[49m\u001b[48;5;17m \u001b[49m\u001b[38;5;28;48;5;17mself\u001b[39;49m\u001b[38;5;241;48;5;17m.\u001b[39;49m\u001b[48;5;17mmean\u001b[49m\u001b[48;5;17m,\u001b[49m\u001b[48;5;17m \u001b[49m\u001b[38;5;28;48;5;17mself\u001b[39;49m\u001b[38;5;241;48;5;17m.\u001b[39;49m\u001b[48;5;17mstd\u001b[49m\u001b[48;5;17m,\u001b[49m\n\u001b[0;32m--> 575\u001b[0m \u001b[48;5;17m                                    \u001b[49m\u001b[38;5;28;48;5;17mself\u001b[39;49m\u001b[38;5;241;48;5;17m.\u001b[39;49m\u001b[48;5;17mto_rgb\u001b[49m\u001b[48;5;17m)\u001b[49m\n\u001b[1;32m    576\u001b[0m results[\u001b[38;5;124m'\u001b[39m\u001b[38;5;124mimg_norm_cfg\u001b[39m\u001b[38;5;124m'\u001b[39m] \u001b[38;5;241m=\u001b[39m \u001b[38;5;28mdict\u001b[39m(\n\u001b[1;32m    577\u001b[0m     mean\u001b[38;5;241m=\u001b[39m\u001b[38;5;28mself\u001b[39m\u001b[38;5;241m.\u001b[39mmean, std\u001b[38;5;241m=\u001b[39m\u001b[38;5;28mself\u001b[39m\u001b[38;5;241m.\u001b[39mstd, to_rgb\u001b[38;5;241m=\u001b[39m\u001b[38;5;28mself\u001b[39m\u001b[38;5;241m.\u001b[39mto_rgb)\n\u001b[1;32m    578\u001b[0m \u001b[38;5;28;01mreturn\u001b[39;00m results\n",
      "\u001b[0;32m~/miniconda3/envs/open-mmlab/lib/python3.7/site-packages/mmcv/image/photometric.py\u001b[0m in \u001b[0;36mimnormalize\u001b[0;34m(img, mean, std, to_rgb)\u001b[0m\n\u001b[1;32m      9\u001b[0m \u001b[38;5;124;03m\"\"\"Normalize an image with mean and std.\u001b[39;00m\n\u001b[1;32m     10\u001b[0m \n\u001b[1;32m     11\u001b[0m \u001b[38;5;124;03mArgs:\u001b[39;00m\n\u001b[0;32m   (...)\u001b[0m\n\u001b[1;32m     18\u001b[0m \u001b[38;5;124;03m    ndarray: The normalized image.\u001b[39;00m\n\u001b[1;32m     19\u001b[0m \u001b[38;5;124;03m\"\"\"\u001b[39;00m\n\u001b[1;32m     20\u001b[0m img \u001b[38;5;241m=\u001b[39m img\u001b[38;5;241m.\u001b[39mcopy()\u001b[38;5;241m.\u001b[39mastype(np\u001b[38;5;241m.\u001b[39mfloat32)\n\u001b[0;32m---> 21\u001b[0m \u001b[38;5;28;01mreturn\u001b[39;00m \u001b[48;5;17mimnormalize_\u001b[49m\u001b[48;5;17m(\u001b[49m\u001b[48;5;17mimg\u001b[49m\u001b[48;5;17m,\u001b[49m\u001b[48;5;17m \u001b[49m\u001b[48;5;17mmean\u001b[49m\u001b[48;5;17m,\u001b[49m\u001b[48;5;17m \u001b[49m\u001b[48;5;17mstd\u001b[49m\u001b[48;5;17m,\u001b[49m\u001b[48;5;17m \u001b[49m\u001b[48;5;17mto_rgb\u001b[49m\u001b[48;5;17m)\u001b[49m\n",
      "\u001b[0;32m~/miniconda3/envs/open-mmlab/lib/python3.7/site-packages/mmcv/image/photometric.py\u001b[0m in \u001b[0;36mimnormalize_\u001b[0;34m(img, mean, std, to_rgb)\u001b[0m\n\u001b[1;32m     41\u001b[0m     cv2\u001b[38;5;241m.\u001b[39mcvtColor(img, cv2\u001b[38;5;241m.\u001b[39mCOLOR_BGR2RGB, img)  \u001b[38;5;66;03m# inplace\u001b[39;00m\n\u001b[1;32m     42\u001b[0m cv2\u001b[38;5;241m.\u001b[39msubtract(img, mean, img)  \u001b[38;5;66;03m# inplace\u001b[39;00m\n\u001b[0;32m---> 43\u001b[0m \u001b[48;5;17mcv2\u001b[49m\u001b[38;5;241;48;5;17m.\u001b[39;49m\u001b[48;5;17mmultiply\u001b[49m\u001b[48;5;17m(\u001b[49m\u001b[48;5;17mimg\u001b[49m\u001b[48;5;17m,\u001b[49m\u001b[48;5;17m \u001b[49m\u001b[48;5;17mstdinv\u001b[49m\u001b[48;5;17m,\u001b[49m\u001b[48;5;17m \u001b[49m\u001b[48;5;17mimg\u001b[49m\u001b[48;5;17m)\u001b[49m  \u001b[38;5;66;03m# inplace\u001b[39;00m\n\u001b[1;32m     44\u001b[0m \u001b[38;5;28;01mreturn\u001b[39;00m img\n",
      "\u001b[0;31mKeyboardInterrupt\u001b[0m: "
     ]
    }
   ],
   "source": [
    "i=0\n",
    "total_image_id = []\n",
    "total_class_names = []\n",
    "total_rad_id = []\n",
    "total_x_min = []\n",
    "total_y_min = []\n",
    "total_x_max = []\n",
    "total_y_max = []\n",
    "for image_id in tqdm(df.image_id):\n",
    "    filename = f'{image_id}.npy'\n",
    "    path = osp.join(dir_path, filename)\n",
    "    \n",
    "    try:\n",
    "        img = np.load(path)\n",
    "    except:\n",
    "        failed.append(image_id)\n",
    "        print(i,image_id)\n",
    "        continue\n",
    "    img = np.repeat(img[...,None],3,-1)\n",
    "    result = inference_detector(model, img)\n",
    "\n",
    "    for class_name, per_class_result in zip(model.CLASSES, result):\n",
    "        bboxes = per_class_result[:, :-1]\n",
    "        scores = per_class_result[:, -1]\n",
    "\n",
    "        bboxes = np.around(bboxes).astype(np.uint64)\n",
    "        for score, bbox in zip(scores,bboxes):\n",
    "            total_image_id.append(image_id)\n",
    "            total_class_names.append(class_name)\n",
    "            total_rad_id.append(score)\n",
    "            total_x_min.append(bbox[0])\n",
    "            total_y_min.append(bbox[1])\n",
    "            total_x_max.append(bbox[2])\n",
    "            total_y_max.append(bbox[3])\n",
    "#             new_df = new_df.append(dict(image_id=image_id, class_name=class_name, class_id=-1, rad_id=score,\n",
    "#                    x_min=bbox[0], y_min=bbox[1], x_max=bbox[2], y_max=bbox[3]), ignore_index=True)\n",
    "    i+=1"
   ]
  },
  {
   "cell_type": "code",
   "execution_count": 18,
   "metadata": {},
   "outputs": [],
   "source": [
    "with open('/home/semyon/projects/vinbigdata/eda/failed_test_files.txt','w') as fp:\n",
    "    fp.write(str(failed))"
   ]
  },
  {
   "cell_type": "code",
   "execution_count": 9,
   "metadata": {},
   "outputs": [
    {
     "data": {
      "text/plain": [
       "0"
      ]
     },
     "execution_count": 9,
     "metadata": {},
     "output_type": "execute_result"
    }
   ],
   "source": [
    "len(failed)"
   ]
  },
  {
   "cell_type": "code",
   "execution_count": 23,
   "metadata": {},
   "outputs": [],
   "source": [
    "for image_id in failed:\n",
    "    new_df = new_df.append(dict(image_id=image_id, class_name='ERROR', class_id=-1, rad_id=0,\n",
    "                   x_min=0, y_min=0, x_max=1, y_max=1), ignore_index=True)"
   ]
  },
  {
   "cell_type": "code",
   "execution_count": 10,
   "metadata": {},
   "outputs": [
    {
     "data": {
      "text/html": [
       "<div>\n",
       "<style scoped>\n",
       "    .dataframe tbody tr th:only-of-type {\n",
       "        vertical-align: middle;\n",
       "    }\n",
       "\n",
       "    .dataframe tbody tr th {\n",
       "        vertical-align: top;\n",
       "    }\n",
       "\n",
       "    .dataframe thead th {\n",
       "        text-align: right;\n",
       "    }\n",
       "</style>\n",
       "<table border=\"1\" class=\"dataframe\">\n",
       "  <thead>\n",
       "    <tr style=\"text-align: right;\">\n",
       "      <th></th>\n",
       "      <th>image_id</th>\n",
       "      <th>class_name</th>\n",
       "      <th>class_id</th>\n",
       "      <th>rad_id</th>\n",
       "      <th>x_min</th>\n",
       "      <th>y_min</th>\n",
       "      <th>x_max</th>\n",
       "      <th>y_max</th>\n",
       "    </tr>\n",
       "  </thead>\n",
       "  <tbody>\n",
       "    <tr>\n",
       "      <th>0</th>\n",
       "      <td>002a34c58c5b758217ed1f584ccbcfe9</td>\n",
       "      <td>Aortic enlargement</td>\n",
       "      <td>-1</td>\n",
       "      <td>0.839313</td>\n",
       "      <td>1160</td>\n",
       "      <td>661</td>\n",
       "      <td>1424</td>\n",
       "      <td>917</td>\n",
       "    </tr>\n",
       "    <tr>\n",
       "      <th>1</th>\n",
       "      <td>002a34c58c5b758217ed1f584ccbcfe9</td>\n",
       "      <td>Cardiomegaly</td>\n",
       "      <td>-1</td>\n",
       "      <td>0.950139</td>\n",
       "      <td>832</td>\n",
       "      <td>1207</td>\n",
       "      <td>1911</td>\n",
       "      <td>1605</td>\n",
       "    </tr>\n",
       "    <tr>\n",
       "      <th>2</th>\n",
       "      <td>002a34c58c5b758217ed1f584ccbcfe9</td>\n",
       "      <td>ILD</td>\n",
       "      <td>-1</td>\n",
       "      <td>0.121392</td>\n",
       "      <td>1694</td>\n",
       "      <td>1039</td>\n",
       "      <td>2085</td>\n",
       "      <td>1580</td>\n",
       "    </tr>\n",
       "    <tr>\n",
       "      <th>3</th>\n",
       "      <td>002a34c58c5b758217ed1f584ccbcfe9</td>\n",
       "      <td>ILD</td>\n",
       "      <td>-1</td>\n",
       "      <td>0.071149</td>\n",
       "      <td>1455</td>\n",
       "      <td>807</td>\n",
       "      <td>2090</td>\n",
       "      <td>1594</td>\n",
       "    </tr>\n",
       "    <tr>\n",
       "      <th>4</th>\n",
       "      <td>002a34c58c5b758217ed1f584ccbcfe9</td>\n",
       "      <td>Nodule/Mass</td>\n",
       "      <td>-1</td>\n",
       "      <td>0.164544</td>\n",
       "      <td>1887</td>\n",
       "      <td>1405</td>\n",
       "      <td>1970</td>\n",
       "      <td>1487</td>\n",
       "    </tr>\n",
       "    <tr>\n",
       "      <th>...</th>\n",
       "      <td>...</td>\n",
       "      <td>...</td>\n",
       "      <td>...</td>\n",
       "      <td>...</td>\n",
       "      <td>...</td>\n",
       "      <td>...</td>\n",
       "      <td>...</td>\n",
       "      <td>...</td>\n",
       "    </tr>\n",
       "    <tr>\n",
       "      <th>69586</th>\n",
       "      <td>ffccf1709d0081d122a1d1f9edbefdf1</td>\n",
       "      <td>Pulmonary fibrosis</td>\n",
       "      <td>-1</td>\n",
       "      <td>0.068183</td>\n",
       "      <td>511</td>\n",
       "      <td>1458</td>\n",
       "      <td>649</td>\n",
       "      <td>1575</td>\n",
       "    </tr>\n",
       "    <tr>\n",
       "      <th>69587</th>\n",
       "      <td>ffccf1709d0081d122a1d1f9edbefdf1</td>\n",
       "      <td>Pulmonary fibrosis</td>\n",
       "      <td>-1</td>\n",
       "      <td>0.066415</td>\n",
       "      <td>433</td>\n",
       "      <td>1326</td>\n",
       "      <td>873</td>\n",
       "      <td>1638</td>\n",
       "    </tr>\n",
       "    <tr>\n",
       "      <th>69588</th>\n",
       "      <td>ffccf1709d0081d122a1d1f9edbefdf1</td>\n",
       "      <td>Pulmonary fibrosis</td>\n",
       "      <td>-1</td>\n",
       "      <td>0.065110</td>\n",
       "      <td>388</td>\n",
       "      <td>1353</td>\n",
       "      <td>557</td>\n",
       "      <td>1531</td>\n",
       "    </tr>\n",
       "    <tr>\n",
       "      <th>69589</th>\n",
       "      <td>ffccf1709d0081d122a1d1f9edbefdf1</td>\n",
       "      <td>Pulmonary fibrosis</td>\n",
       "      <td>-1</td>\n",
       "      <td>0.059114</td>\n",
       "      <td>646</td>\n",
       "      <td>779</td>\n",
       "      <td>826</td>\n",
       "      <td>1083</td>\n",
       "    </tr>\n",
       "    <tr>\n",
       "      <th>69590</th>\n",
       "      <td>ffccf1709d0081d122a1d1f9edbefdf1</td>\n",
       "      <td>Pulmonary fibrosis</td>\n",
       "      <td>-1</td>\n",
       "      <td>0.050509</td>\n",
       "      <td>590</td>\n",
       "      <td>962</td>\n",
       "      <td>678</td>\n",
       "      <td>1063</td>\n",
       "    </tr>\n",
       "  </tbody>\n",
       "</table>\n",
       "<p>69591 rows × 8 columns</p>\n",
       "</div>"
      ],
      "text/plain": [
       "                               image_id          class_name class_id  \\\n",
       "0      002a34c58c5b758217ed1f584ccbcfe9  Aortic enlargement       -1   \n",
       "1      002a34c58c5b758217ed1f584ccbcfe9        Cardiomegaly       -1   \n",
       "2      002a34c58c5b758217ed1f584ccbcfe9                 ILD       -1   \n",
       "3      002a34c58c5b758217ed1f584ccbcfe9                 ILD       -1   \n",
       "4      002a34c58c5b758217ed1f584ccbcfe9         Nodule/Mass       -1   \n",
       "...                                 ...                 ...      ...   \n",
       "69586  ffccf1709d0081d122a1d1f9edbefdf1  Pulmonary fibrosis       -1   \n",
       "69587  ffccf1709d0081d122a1d1f9edbefdf1  Pulmonary fibrosis       -1   \n",
       "69588  ffccf1709d0081d122a1d1f9edbefdf1  Pulmonary fibrosis       -1   \n",
       "69589  ffccf1709d0081d122a1d1f9edbefdf1  Pulmonary fibrosis       -1   \n",
       "69590  ffccf1709d0081d122a1d1f9edbefdf1  Pulmonary fibrosis       -1   \n",
       "\n",
       "         rad_id x_min y_min x_max y_max  \n",
       "0      0.839313  1160   661  1424   917  \n",
       "1      0.950139   832  1207  1911  1605  \n",
       "2      0.121392  1694  1039  2085  1580  \n",
       "3      0.071149  1455   807  2090  1594  \n",
       "4      0.164544  1887  1405  1970  1487  \n",
       "...         ...   ...   ...   ...   ...  \n",
       "69586  0.068183   511  1458   649  1575  \n",
       "69587  0.066415   433  1326   873  1638  \n",
       "69588  0.065110   388  1353   557  1531  \n",
       "69589  0.059114   646   779   826  1083  \n",
       "69590  0.050509   590   962   678  1063  \n",
       "\n",
       "[69591 rows x 8 columns]"
      ]
     },
     "execution_count": 10,
     "metadata": {},
     "output_type": "execute_result"
    }
   ],
   "source": [
    "new_df"
   ]
  },
  {
   "cell_type": "code",
   "execution_count": 11,
   "metadata": {},
   "outputs": [
    {
     "data": {
      "text/plain": [
       "(3000,)"
      ]
     },
     "execution_count": 11,
     "metadata": {},
     "output_type": "execute_result"
    }
   ],
   "source": [
    "new_df.image_id.unique().shape"
   ]
  },
  {
   "cell_type": "code",
   "execution_count": 11,
   "metadata": {},
   "outputs": [
    {
     "data": {
      "text/html": [
       "<div>\n",
       "<style scoped>\n",
       "    .dataframe tbody tr th:only-of-type {\n",
       "        vertical-align: middle;\n",
       "    }\n",
       "\n",
       "    .dataframe tbody tr th {\n",
       "        vertical-align: top;\n",
       "    }\n",
       "\n",
       "    .dataframe thead th {\n",
       "        text-align: right;\n",
       "    }\n",
       "</style>\n",
       "<table border=\"1\" class=\"dataframe\">\n",
       "  <thead>\n",
       "    <tr style=\"text-align: right;\">\n",
       "      <th></th>\n",
       "      <th>image_id</th>\n",
       "      <th>class_name</th>\n",
       "      <th>class_id</th>\n",
       "      <th>rad_id</th>\n",
       "      <th>x_min</th>\n",
       "      <th>y_min</th>\n",
       "      <th>x_max</th>\n",
       "      <th>y_max</th>\n",
       "    </tr>\n",
       "  </thead>\n",
       "  <tbody>\n",
       "    <tr>\n",
       "      <th>0</th>\n",
       "      <td>002a34c58c5b758217ed1f584ccbcfe9</td>\n",
       "      <td>Aortic enlargement</td>\n",
       "      <td>-1</td>\n",
       "      <td>0.839313</td>\n",
       "      <td>1160</td>\n",
       "      <td>661</td>\n",
       "      <td>1424</td>\n",
       "      <td>917</td>\n",
       "    </tr>\n",
       "    <tr>\n",
       "      <th>1</th>\n",
       "      <td>002a34c58c5b758217ed1f584ccbcfe9</td>\n",
       "      <td>Cardiomegaly</td>\n",
       "      <td>-1</td>\n",
       "      <td>0.950139</td>\n",
       "      <td>832</td>\n",
       "      <td>1207</td>\n",
       "      <td>1911</td>\n",
       "      <td>1605</td>\n",
       "    </tr>\n",
       "    <tr>\n",
       "      <th>7</th>\n",
       "      <td>002a34c58c5b758217ed1f584ccbcfe9</td>\n",
       "      <td>Pleural thickening</td>\n",
       "      <td>-1</td>\n",
       "      <td>0.573166</td>\n",
       "      <td>1425</td>\n",
       "      <td>293</td>\n",
       "      <td>1702</td>\n",
       "      <td>384</td>\n",
       "    </tr>\n",
       "    <tr>\n",
       "      <th>22</th>\n",
       "      <td>004f33259ee4aef671c2b95d54e4be68</td>\n",
       "      <td>Aortic enlargement</td>\n",
       "      <td>-1</td>\n",
       "      <td>0.977187</td>\n",
       "      <td>1267</td>\n",
       "      <td>586</td>\n",
       "      <td>1540</td>\n",
       "      <td>911</td>\n",
       "    </tr>\n",
       "    <tr>\n",
       "      <th>25</th>\n",
       "      <td>004f33259ee4aef671c2b95d54e4be68</td>\n",
       "      <td>Cardiomegaly</td>\n",
       "      <td>-1</td>\n",
       "      <td>0.481210</td>\n",
       "      <td>1023</td>\n",
       "      <td>1464</td>\n",
       "      <td>1867</td>\n",
       "      <td>1788</td>\n",
       "    </tr>\n",
       "    <tr>\n",
       "      <th>...</th>\n",
       "      <td>...</td>\n",
       "      <td>...</td>\n",
       "      <td>...</td>\n",
       "      <td>...</td>\n",
       "      <td>...</td>\n",
       "      <td>...</td>\n",
       "      <td>...</td>\n",
       "      <td>...</td>\n",
       "    </tr>\n",
       "    <tr>\n",
       "      <th>69562</th>\n",
       "      <td>ffccf1709d0081d122a1d1f9edbefdf1</td>\n",
       "      <td>Pleural thickening</td>\n",
       "      <td>-1</td>\n",
       "      <td>0.345368</td>\n",
       "      <td>1777</td>\n",
       "      <td>639</td>\n",
       "      <td>2097</td>\n",
       "      <td>871</td>\n",
       "    </tr>\n",
       "    <tr>\n",
       "      <th>69575</th>\n",
       "      <td>ffccf1709d0081d122a1d1f9edbefdf1</td>\n",
       "      <td>Pulmonary fibrosis</td>\n",
       "      <td>-1</td>\n",
       "      <td>0.818390</td>\n",
       "      <td>545</td>\n",
       "      <td>779</td>\n",
       "      <td>1010</td>\n",
       "      <td>1294</td>\n",
       "    </tr>\n",
       "    <tr>\n",
       "      <th>69576</th>\n",
       "      <td>ffccf1709d0081d122a1d1f9edbefdf1</td>\n",
       "      <td>Pulmonary fibrosis</td>\n",
       "      <td>-1</td>\n",
       "      <td>0.705313</td>\n",
       "      <td>1767</td>\n",
       "      <td>912</td>\n",
       "      <td>2334</td>\n",
       "      <td>1667</td>\n",
       "    </tr>\n",
       "    <tr>\n",
       "      <th>69577</th>\n",
       "      <td>ffccf1709d0081d122a1d1f9edbefdf1</td>\n",
       "      <td>Pulmonary fibrosis</td>\n",
       "      <td>-1</td>\n",
       "      <td>0.343321</td>\n",
       "      <td>471</td>\n",
       "      <td>705</td>\n",
       "      <td>1070</td>\n",
       "      <td>1626</td>\n",
       "    </tr>\n",
       "    <tr>\n",
       "      <th>69578</th>\n",
       "      <td>ffccf1709d0081d122a1d1f9edbefdf1</td>\n",
       "      <td>Pulmonary fibrosis</td>\n",
       "      <td>-1</td>\n",
       "      <td>0.328238</td>\n",
       "      <td>416</td>\n",
       "      <td>1382</td>\n",
       "      <td>675</td>\n",
       "      <td>1588</td>\n",
       "    </tr>\n",
       "  </tbody>\n",
       "</table>\n",
       "<p>10191 rows × 8 columns</p>\n",
       "</div>"
      ],
      "text/plain": [
       "                               image_id          class_name class_id  \\\n",
       "0      002a34c58c5b758217ed1f584ccbcfe9  Aortic enlargement       -1   \n",
       "1      002a34c58c5b758217ed1f584ccbcfe9        Cardiomegaly       -1   \n",
       "7      002a34c58c5b758217ed1f584ccbcfe9  Pleural thickening       -1   \n",
       "22     004f33259ee4aef671c2b95d54e4be68  Aortic enlargement       -1   \n",
       "25     004f33259ee4aef671c2b95d54e4be68        Cardiomegaly       -1   \n",
       "...                                 ...                 ...      ...   \n",
       "69562  ffccf1709d0081d122a1d1f9edbefdf1  Pleural thickening       -1   \n",
       "69575  ffccf1709d0081d122a1d1f9edbefdf1  Pulmonary fibrosis       -1   \n",
       "69576  ffccf1709d0081d122a1d1f9edbefdf1  Pulmonary fibrosis       -1   \n",
       "69577  ffccf1709d0081d122a1d1f9edbefdf1  Pulmonary fibrosis       -1   \n",
       "69578  ffccf1709d0081d122a1d1f9edbefdf1  Pulmonary fibrosis       -1   \n",
       "\n",
       "         rad_id x_min y_min x_max y_max  \n",
       "0      0.839313  1160   661  1424   917  \n",
       "1      0.950139   832  1207  1911  1605  \n",
       "7      0.573166  1425   293  1702   384  \n",
       "22     0.977187  1267   586  1540   911  \n",
       "25     0.481210  1023  1464  1867  1788  \n",
       "...         ...   ...   ...   ...   ...  \n",
       "69562  0.345368  1777   639  2097   871  \n",
       "69575  0.818390   545   779  1010  1294  \n",
       "69576  0.705313  1767   912  2334  1667  \n",
       "69577  0.343321   471   705  1070  1626  \n",
       "69578  0.328238   416  1382   675  1588  \n",
       "\n",
       "[10191 rows x 8 columns]"
      ]
     },
     "execution_count": 11,
     "metadata": {},
     "output_type": "execute_result"
    }
   ],
   "source": [
    "new_df = new_df[new_df.rad_id >= .3]\n",
    "new_df"
   ]
  },
  {
   "cell_type": "code",
   "execution_count": 11,
   "metadata": {},
   "outputs": [],
   "source": [
    "new_df.to_csv('/home/semyon/projects/vinbigdata/eda/dfs/result_faster_rcnn_24epoch.csv', index=False)"
   ]
  },
  {
   "cell_type": "markdown",
   "metadata": {},
   "source": [
    "### Create meta for test"
   ]
  },
  {
   "cell_type": "code",
   "execution_count": 28,
   "metadata": {},
   "outputs": [],
   "source": [
    "import os.path as osp"
   ]
  },
  {
   "cell_type": "code",
   "execution_count": 39,
   "metadata": {},
   "outputs": [
    {
     "data": {
      "text/html": [
       "<div>\n",
       "<style scoped>\n",
       "    .dataframe tbody tr th:only-of-type {\n",
       "        vertical-align: middle;\n",
       "    }\n",
       "\n",
       "    .dataframe tbody tr th {\n",
       "        vertical-align: top;\n",
       "    }\n",
       "\n",
       "    .dataframe thead th {\n",
       "        text-align: right;\n",
       "    }\n",
       "</style>\n",
       "<table border=\"1\" class=\"dataframe\">\n",
       "  <thead>\n",
       "    <tr style=\"text-align: right;\">\n",
       "      <th></th>\n",
       "      <th>image_id</th>\n",
       "      <th>dim0</th>\n",
       "      <th>dim1</th>\n",
       "    </tr>\n",
       "  </thead>\n",
       "  <tbody>\n",
       "  </tbody>\n",
       "</table>\n",
       "</div>"
      ],
      "text/plain": [
       "Empty DataFrame\n",
       "Columns: [image_id, dim0, dim1]\n",
       "Index: []"
      ]
     },
     "execution_count": 39,
     "metadata": {},
     "output_type": "execute_result"
    }
   ],
   "source": [
    "meta_df = pd.DataFrame(columns=['image_id', 'dim0', 'dim1'])\n",
    "meta_df"
   ]
  },
  {
   "cell_type": "code",
   "execution_count": 40,
   "metadata": {},
   "outputs": [
    {
     "data": {
      "text/html": [
       "<div>\n",
       "<style scoped>\n",
       "    .dataframe tbody tr th:only-of-type {\n",
       "        vertical-align: middle;\n",
       "    }\n",
       "\n",
       "    .dataframe tbody tr th {\n",
       "        vertical-align: top;\n",
       "    }\n",
       "\n",
       "    .dataframe thead th {\n",
       "        text-align: right;\n",
       "    }\n",
       "</style>\n",
       "<table border=\"1\" class=\"dataframe\">\n",
       "  <thead>\n",
       "    <tr style=\"text-align: right;\">\n",
       "      <th></th>\n",
       "      <th>image_id</th>\n",
       "      <th>dim0</th>\n",
       "      <th>dim1</th>\n",
       "    </tr>\n",
       "  </thead>\n",
       "  <tbody>\n",
       "  </tbody>\n",
       "</table>\n",
       "</div>"
      ],
      "text/plain": [
       "Empty DataFrame\n",
       "Columns: [image_id, dim0, dim1]\n",
       "Index: []"
      ]
     },
     "execution_count": 40,
     "metadata": {},
     "output_type": "execute_result"
    }
   ],
   "source": [
    "meta_df"
   ]
  },
  {
   "cell_type": "code",
   "execution_count": 41,
   "metadata": {},
   "outputs": [
    {
     "data": {
      "application/vnd.jupyter.widget-view+json": {
       "model_id": "05b76348c1844485928f90e88a38d4fb",
       "version_major": 2,
       "version_minor": 0
      },
      "text/plain": [
       "  0%|          | 0/3000 [00:00<?, ?it/s]"
      ]
     },
     "metadata": {},
     "output_type": "display_data"
    }
   ],
   "source": [
    "dir_name = '/home/semyon/data/VinBigData/test'\n",
    "for image_id in tqdm(new_df.image_id.unique()):\n",
    "    path = osp.join(dir_name, f'{image_id}.npy') \n",
    "    img = np.load(path)\n",
    "    h,w = img.shape\n",
    "#     print(image_id, h, w)\n",
    "    meta_df = meta_df.append(dict(image_id=image_id, dim0=h, dim1=w), ignore_index=True)"
   ]
  },
  {
   "cell_type": "code",
   "execution_count": 43,
   "metadata": {},
   "outputs": [],
   "source": [
    "meta_df.to_csv('/home/semyon/data/vinbigdata/archive/test_meta.csv',index=False)"
   ]
  },
  {
   "cell_type": "code",
   "execution_count": 46,
   "metadata": {},
   "outputs": [
    {
     "data": {
      "text/plain": [
       "'test'"
      ]
     },
     "execution_count": 46,
     "metadata": {},
     "output_type": "execute_result"
    }
   ],
   "source": [
    "osp.split(dir_name)[1]"
   ]
  },
  {
   "cell_type": "code",
   "execution_count": null,
   "metadata": {},
   "outputs": [],
   "source": []
  }
 ],
 "metadata": {
  "kernelspec": {
   "display_name": "Python (open-mmlab)",
   "language": "python",
   "name": "open-mmlab"
  },
  "language_info": {
   "codemirror_mode": {
    "name": "ipython",
    "version": 3
   },
   "file_extension": ".py",
   "mimetype": "text/x-python",
   "name": "python",
   "nbconvert_exporter": "python",
   "pygments_lexer": "ipython3",
   "version": "3.7.9"
  }
 },
 "nbformat": 4,
 "nbformat_minor": 4
}
