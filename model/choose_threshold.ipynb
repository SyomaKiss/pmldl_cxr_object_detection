{
 "cells": [
  {
   "cell_type": "code",
   "execution_count": 1,
   "id": "operational-plenty",
   "metadata": {},
   "outputs": [],
   "source": [
    "import pandas as pd\n",
    "import numpy as np\n",
    "import os.path as osp\n",
    "from tqdm.notebook import tqdm\n",
    "\n",
    "from map_at_th import get_mean_average_precision\n",
    "from bbox_ensemble import ensemble_bboxes"
   ]
  },
  {
   "cell_type": "code",
   "execution_count": 2,
   "id": "lesbian-failing",
   "metadata": {},
   "outputs": [],
   "source": [
    "annotations_file = '/home/semyon/data/VinBigData/custom_dfs/weighted_boxes_fusion_iou-0.20_fold-0.csv'\n",
    "detections_file = '/home/semyon/projects/vinbigdata/eda/dfs/result.csv'\n",
    "\n",
    "ann_df = pd.read_csv(annotations_file)\n",
    "pred_df = pd.read_csv(detections_file)"
   ]
  },
  {
   "cell_type": "code",
   "execution_count": 3,
   "id": "indie-dubai",
   "metadata": {},
   "outputs": [],
   "source": [
    "all_map = []\n",
    "all_th = []"
   ]
  },
  {
   "cell_type": "code",
   "execution_count": 4,
   "id": "australian-principle",
   "metadata": {},
   "outputs": [
    {
     "data": {
      "application/vnd.jupyter.widget-view+json": {
       "model_id": "613133e6d0d4415d902f384351827b5f",
       "version_major": 2,
       "version_minor": 0
      },
      "text/plain": [
       "  0%|          | 0/885 [00:00<?, ?it/s]"
      ]
     },
     "metadata": {},
     "output_type": "display_data"
    }
   ],
   "source": [
    "ens_df = ensemble_bboxes(pred_df)"
   ]
  },
  {
   "cell_type": "code",
   "execution_count": 6,
   "id": "medium-french",
   "metadata": {},
   "outputs": [
    {
     "name": "stdout",
     "output_type": "stream",
     "text": [
      "0.28664300004872223\n"
     ]
    }
   ],
   "source": [
    "mAP, _ = get_mean_average_precision(ann_df, ens_df)\n",
    "print(mAP)"
   ]
  },
  {
   "cell_type": "code",
   "execution_count": 5,
   "id": "billion-working",
   "metadata": {},
   "outputs": [
    {
     "data": {
      "text/html": [
       "<div>\n",
       "<style scoped>\n",
       "    .dataframe tbody tr th:only-of-type {\n",
       "        vertical-align: middle;\n",
       "    }\n",
       "\n",
       "    .dataframe tbody tr th {\n",
       "        vertical-align: top;\n",
       "    }\n",
       "\n",
       "    .dataframe thead th {\n",
       "        text-align: right;\n",
       "    }\n",
       "</style>\n",
       "<table border=\"1\" class=\"dataframe\">\n",
       "  <thead>\n",
       "    <tr style=\"text-align: right;\">\n",
       "      <th></th>\n",
       "      <th>image_id</th>\n",
       "      <th>class_name</th>\n",
       "      <th>class_id</th>\n",
       "      <th>rad_id</th>\n",
       "      <th>x_min</th>\n",
       "      <th>y_min</th>\n",
       "      <th>x_max</th>\n",
       "      <th>y_max</th>\n",
       "    </tr>\n",
       "  </thead>\n",
       "  <tbody>\n",
       "    <tr>\n",
       "      <th>0</th>\n",
       "      <td>1c32170b4af4ce1a3030eb8167753b06</td>\n",
       "      <td>Aortic enlargement</td>\n",
       "      <td>0</td>\n",
       "      <td>0.196931</td>\n",
       "      <td>1246</td>\n",
       "      <td>767</td>\n",
       "      <td>1498</td>\n",
       "      <td>1015</td>\n",
       "    </tr>\n",
       "    <tr>\n",
       "      <th>1</th>\n",
       "      <td>1c32170b4af4ce1a3030eb8167753b06</td>\n",
       "      <td>Cardiomegaly</td>\n",
       "      <td>3</td>\n",
       "      <td>0.068770</td>\n",
       "      <td>951</td>\n",
       "      <td>1772</td>\n",
       "      <td>1899</td>\n",
       "      <td>2188</td>\n",
       "    </tr>\n",
       "    <tr>\n",
       "      <th>2</th>\n",
       "      <td>1c32170b4af4ce1a3030eb8167753b06</td>\n",
       "      <td>ILD</td>\n",
       "      <td>5</td>\n",
       "      <td>0.239827</td>\n",
       "      <td>424</td>\n",
       "      <td>505</td>\n",
       "      <td>1032</td>\n",
       "      <td>1583</td>\n",
       "    </tr>\n",
       "    <tr>\n",
       "      <th>3</th>\n",
       "      <td>1c32170b4af4ce1a3030eb8167753b06</td>\n",
       "      <td>ILD</td>\n",
       "      <td>5</td>\n",
       "      <td>0.074666</td>\n",
       "      <td>1492</td>\n",
       "      <td>558</td>\n",
       "      <td>2135</td>\n",
       "      <td>1433</td>\n",
       "    </tr>\n",
       "    <tr>\n",
       "      <th>4</th>\n",
       "      <td>1c32170b4af4ce1a3030eb8167753b06</td>\n",
       "      <td>ILD</td>\n",
       "      <td>5</td>\n",
       "      <td>0.070140</td>\n",
       "      <td>278</td>\n",
       "      <td>481</td>\n",
       "      <td>1022</td>\n",
       "      <td>2381</td>\n",
       "    </tr>\n",
       "    <tr>\n",
       "      <th>...</th>\n",
       "      <td>...</td>\n",
       "      <td>...</td>\n",
       "      <td>...</td>\n",
       "      <td>...</td>\n",
       "      <td>...</td>\n",
       "      <td>...</td>\n",
       "      <td>...</td>\n",
       "      <td>...</td>\n",
       "    </tr>\n",
       "    <tr>\n",
       "      <th>28511</th>\n",
       "      <td>52951d7de2485aba8ed62629eee4d254</td>\n",
       "      <td>Pleural thickening</td>\n",
       "      <td>11</td>\n",
       "      <td>0.065004</td>\n",
       "      <td>588</td>\n",
       "      <td>509</td>\n",
       "      <td>797</td>\n",
       "      <td>563</td>\n",
       "    </tr>\n",
       "    <tr>\n",
       "      <th>28512</th>\n",
       "      <td>52951d7de2485aba8ed62629eee4d254</td>\n",
       "      <td>Pleural thickening</td>\n",
       "      <td>11</td>\n",
       "      <td>0.052846</td>\n",
       "      <td>1220</td>\n",
       "      <td>483</td>\n",
       "      <td>1439</td>\n",
       "      <td>537</td>\n",
       "    </tr>\n",
       "    <tr>\n",
       "      <th>28513</th>\n",
       "      <td>1224f07d895107573588225f692e94f9</td>\n",
       "      <td>Aortic enlargement</td>\n",
       "      <td>0</td>\n",
       "      <td>0.980466</td>\n",
       "      <td>1017</td>\n",
       "      <td>677</td>\n",
       "      <td>1284</td>\n",
       "      <td>1019</td>\n",
       "    </tr>\n",
       "    <tr>\n",
       "      <th>28514</th>\n",
       "      <td>1224f07d895107573588225f692e94f9</td>\n",
       "      <td>Cardiomegaly</td>\n",
       "      <td>3</td>\n",
       "      <td>0.606149</td>\n",
       "      <td>718</td>\n",
       "      <td>1326</td>\n",
       "      <td>1544</td>\n",
       "      <td>1665</td>\n",
       "    </tr>\n",
       "    <tr>\n",
       "      <th>28515</th>\n",
       "      <td>1224f07d895107573588225f692e94f9</td>\n",
       "      <td>Pulmonary fibrosis</td>\n",
       "      <td>13</td>\n",
       "      <td>0.052239</td>\n",
       "      <td>278</td>\n",
       "      <td>1365</td>\n",
       "      <td>651</td>\n",
       "      <td>1560</td>\n",
       "    </tr>\n",
       "  </tbody>\n",
       "</table>\n",
       "<p>28516 rows × 8 columns</p>\n",
       "</div>"
      ],
      "text/plain": [
       "                               image_id          class_name  class_id  \\\n",
       "0      1c32170b4af4ce1a3030eb8167753b06  Aortic enlargement         0   \n",
       "1      1c32170b4af4ce1a3030eb8167753b06        Cardiomegaly         3   \n",
       "2      1c32170b4af4ce1a3030eb8167753b06                 ILD         5   \n",
       "3      1c32170b4af4ce1a3030eb8167753b06                 ILD         5   \n",
       "4      1c32170b4af4ce1a3030eb8167753b06                 ILD         5   \n",
       "...                                 ...                 ...       ...   \n",
       "28511  52951d7de2485aba8ed62629eee4d254  Pleural thickening        11   \n",
       "28512  52951d7de2485aba8ed62629eee4d254  Pleural thickening        11   \n",
       "28513  1224f07d895107573588225f692e94f9  Aortic enlargement         0   \n",
       "28514  1224f07d895107573588225f692e94f9        Cardiomegaly         3   \n",
       "28515  1224f07d895107573588225f692e94f9  Pulmonary fibrosis        13   \n",
       "\n",
       "         rad_id  x_min  y_min  x_max  y_max  \n",
       "0      0.196931   1246    767   1498   1015  \n",
       "1      0.068770    951   1772   1899   2188  \n",
       "2      0.239827    424    505   1032   1583  \n",
       "3      0.074666   1492    558   2135   1433  \n",
       "4      0.070140    278    481   1022   2381  \n",
       "...         ...    ...    ...    ...    ...  \n",
       "28511  0.065004    588    509    797    563  \n",
       "28512  0.052846   1220    483   1439    537  \n",
       "28513  0.980466   1017    677   1284   1019  \n",
       "28514  0.606149    718   1326   1544   1665  \n",
       "28515  0.052239    278   1365    651   1560  \n",
       "\n",
       "[28516 rows x 8 columns]"
      ]
     },
     "execution_count": 5,
     "metadata": {},
     "output_type": "execute_result"
    }
   ],
   "source": [
    "pred_df"
   ]
  },
  {
   "cell_type": "code",
   "execution_count": null,
   "id": "finished-preference",
   "metadata": {},
   "outputs": [
    {
     "data": {
      "application/vnd.jupyter.widget-view+json": {
       "model_id": "23f87a52570c4c3d9068572cc940533b",
       "version_major": 2,
       "version_minor": 0
      },
      "text/plain": [
       "  0%|          | 0/885 [00:00<?, ?it/s]"
      ]
     },
     "metadata": {},
     "output_type": "display_data"
    },
    {
     "name": "stdout",
     "output_type": "stream",
     "text": [
      "0.01 : 0.2821287859526291\n"
     ]
    },
    {
     "data": {
      "application/vnd.jupyter.widget-view+json": {
       "model_id": "dee7cc7434ac4268af86b15e9fb9e6d1",
       "version_major": 2,
       "version_minor": 0
      },
      "text/plain": [
       "  0%|          | 0/885 [00:00<?, ?it/s]"
      ]
     },
     "metadata": {},
     "output_type": "display_data"
    },
    {
     "name": "stdout",
     "output_type": "stream",
     "text": [
      "0.02 : 0.2838389830057087\n"
     ]
    },
    {
     "data": {
      "application/vnd.jupyter.widget-view+json": {
       "model_id": "b7546dbf283b470bb5d434f5f7e86c4a",
       "version_major": 2,
       "version_minor": 0
      },
      "text/plain": [
       "  0%|          | 0/885 [00:00<?, ?it/s]"
      ]
     },
     "metadata": {},
     "output_type": "display_data"
    },
    {
     "name": "stdout",
     "output_type": "stream",
     "text": [
      "0.03 : 0.28338717077042425\n"
     ]
    },
    {
     "data": {
      "application/vnd.jupyter.widget-view+json": {
       "model_id": "267a01adc0e04de1b664c80f637a5696",
       "version_major": 2,
       "version_minor": 0
      },
      "text/plain": [
       "  0%|          | 0/885 [00:00<?, ?it/s]"
      ]
     },
     "metadata": {},
     "output_type": "display_data"
    }
   ],
   "source": [
    "all_map = []\n",
    "all_th = []\n",
    "for iou_th in np.arange(0.01, 1, 0.01):\n",
    "    ens_df = ensemble_bboxes(pred_df, iou_threshold=iou_th)\n",
    "    mAP, _ = get_mean_average_precision(ann_df, ens_df)\n",
    "    all_map.append(mAP)\n",
    "    all_th.append(iou_th)\n",
    "    print(iou_th, ':', mAP)"
   ]
  },
  {
   "cell_type": "code",
   "execution_count": 11,
   "id": "material-thing",
   "metadata": {},
   "outputs": [
    {
     "data": {
      "text/plain": [
       "[0.2821287859526291,\n",
       " 0.2838389830057087,\n",
       " 0.28338717077042425,\n",
       " 0.28340669077806535,\n",
       " 0.2838708868323636,\n",
       " 0.2837880956842566,\n",
       " 0.28400197574371333,\n",
       " 0.2834057581112854,\n",
       " 0.2835805925740204,\n",
       " 0.28452731477115056,\n",
       " 0.284903591023788,\n",
       " 0.28541679914707674,\n",
       " 0.28524569120682225,\n",
       " 0.2852934738885341,\n",
       " 0.2863241941460609,\n",
       " 0.2858598950948123,\n",
       " 0.2871476688328358,\n",
       " 0.2863239648376582,\n",
       " 0.2861161793086671,\n",
       " 0.28664300004872223,\n",
       " 0.28753787310275414,\n",
       " 0.28794129305490185,\n",
       " 0.28826856095665737,\n",
       " 0.2887537537353528,\n",
       " 0.28945702139794627,\n",
       " 0.29004668135510003,\n",
       " 0.2890109515328607,\n",
       " 0.28903723769695394,\n",
       " 0.2896378667880383,\n",
       " 0.29017648115978995,\n",
       " 0.29111022984052504,\n",
       " 0.2942085620379216,\n",
       " 0.2930829810878403,\n",
       " 0.29185147648139104,\n",
       " 0.29218327232610897,\n",
       " 0.29128152560097664,\n",
       " 0.29261303352457785,\n",
       " 0.2929784246717483,\n",
       " 0.29055938902312756,\n",
       " 0.29247682781584344,\n",
       " 0.2915380083344736,\n",
       " 0.2907535767584545,\n",
       " 0.2904493238014862,\n",
       " 0.29181183842528735,\n",
       " 0.2926030228877369,\n",
       " 0.2938193314989489,\n",
       " 0.29847781990478117,\n",
       " 0.3000974850219342,\n",
       " 0.3061633224041045,\n",
       " 0.30576151015919956,\n",
       " 0.3053316069582377,\n",
       " 0.3053316069582377,\n",
       " 0.3053316069582377,\n",
       " 0.3053316069582377,\n",
       " 0.3053316069582377,\n",
       " 0.3053316069582377,\n",
       " 0.3053316069582377,\n",
       " 0.3053316069582377,\n",
       " 0.3053316069582377,\n",
       " 0.3053316069582377,\n",
       " 0.3053316069582377,\n",
       " 0.3053316069582377,\n",
       " 0.3053316069582377,\n",
       " 0.3053316069582377,\n",
       " 0.3053316069582377,\n",
       " 0.3053316069582377,\n",
       " 0.3053316069582377,\n",
       " 0.3053316069582377,\n",
       " 0.3053316069582377,\n",
       " 0.3053316069582377,\n",
       " 0.3053316069582377,\n",
       " 0.3053316069582377,\n",
       " 0.3053316069582377,\n",
       " 0.3053316069582377,\n",
       " 0.3053316069582377,\n",
       " 0.3053316069582377,\n",
       " 0.3053316069582377,\n",
       " 0.3053316069582377,\n",
       " 0.3053316069582377,\n",
       " 0.3053316069582377,\n",
       " 0.3053316069582377,\n",
       " 0.3053316069582377,\n",
       " 0.3053316069582377,\n",
       " 0.3053316069582377,\n",
       " 0.3053316069582377,\n",
       " 0.3053316069582377,\n",
       " 0.3053316069582377,\n",
       " 0.3053316069582377,\n",
       " 0.3053316069582377,\n",
       " 0.3053316069582377,\n",
       " 0.3053316069582377,\n",
       " 0.3053316069582377,\n",
       " 0.3053316069582377,\n",
       " 0.3053316069582377,\n",
       " 0.3053316069582377,\n",
       " 0.3053316069582377,\n",
       " 0.3053316069582377,\n",
       " 0.3053316069582377,\n",
       " 0.3053316069582377]"
      ]
     },
     "execution_count": 11,
     "metadata": {},
     "output_type": "execute_result"
    }
   ],
   "source": [
    "all_map"
   ]
  },
  {
   "cell_type": "code",
   "execution_count": 7,
   "id": "agreed-venezuela",
   "metadata": {},
   "outputs": [
    {
     "name": "stdout",
     "output_type": "stream",
     "text": [
      "0.3053316069582377\n"
     ]
    }
   ],
   "source": [
    "mAP, _ = get_mean_average_precision(ann_df, pred_df)\n",
    "print(mAP)"
   ]
  },
  {
   "cell_type": "code",
   "execution_count": 3,
   "id": "specified-cache",
   "metadata": {
    "collapsed": true,
    "jupyter": {
     "outputs_hidden": true
    }
   },
   "outputs": [
    {
     "name": "stdout",
     "output_type": "stream",
     "text": [
      "0.1978127971441366\n",
      "0.1978127971441366\n",
      "0.1978127971441366\n",
      "0.1978127971441366\n",
      "0.1978127971441366\n",
      "0.19525814554131257\n",
      "0.19298360033030054\n",
      "0.18922633261146707\n",
      "0.18554629114928428\n",
      "0.1824311913874225\n",
      "0.17843301198576253\n",
      "0.17509680248512496\n",
      "0.17320391162691992\n",
      "0.16972856866064498\n",
      "0.16736319287467746\n",
      "0.1648605121032771\n",
      "0.16244762771658516\n",
      "0.1590910322245755\n",
      "0.1560706702402632\n",
      "0.15463960729084775\n",
      "0.15208334000337048\n",
      "0.1509933834475589\n",
      "0.14978930949523028\n",
      "0.14834659472567102\n",
      "0.1458214239496322\n",
      "0.14504029204981375\n",
      "0.1443870315424156\n",
      "0.14298862683938648\n",
      "0.14098210752106824\n",
      "0.13995168463251786\n",
      "0.13942727324346235\n",
      "0.13891447068429644\n",
      "0.13796117235513783\n",
      "0.13779173540644726\n",
      "0.13729185357951837\n",
      "0.13729185357951837\n",
      "0.13698499962084604\n",
      "0.13640956606338311\n",
      "0.1359776099487393\n",
      "0.13593589400889733\n",
      "0.13570604644706946\n",
      "0.13562434988292021\n",
      "0.13525163505719046\n",
      "0.13511886314609928\n",
      "0.13477536172823917\n",
      "0.13451981729372303\n",
      "0.13429929076693672\n",
      "0.13400026485386105\n",
      "0.13384289468425095\n",
      "0.13345798402799\n",
      "0.13310739036964742\n",
      "0.13293138248716496\n",
      "0.13228291049962357\n",
      "0.13219038110453912\n",
      "0.13199823407028682\n",
      "0.13194563571135562\n",
      "0.13194563571135562\n",
      "0.13185934025214052\n",
      "0.13176342159116503\n",
      "0.13144186342234204\n",
      "0.13056112145386403\n",
      "0.1301072088946883\n",
      "0.1296980255020746\n",
      "0.1294703651426612\n",
      "0.1294703651426612\n",
      "0.12844797372015196\n",
      "0.1281973471537359\n",
      "0.1280069832584426\n",
      "0.12756571810079728\n",
      "0.1273869684430613\n",
      "0.12678134860738208\n",
      "0.1266768972174886\n",
      "0.12601768182722342\n",
      "0.12560624559619457\n",
      "0.12503055661857312\n",
      "0.12462962110299791\n",
      "0.12406526705724023\n",
      "0.12358491723290548\n",
      "0.12324438472063046\n",
      "0.12214171849845744\n",
      "0.12156398640107237\n",
      "0.12100723922158114\n",
      "0.11970090210542653\n",
      "0.11821287632374987\n",
      "0.11738711584624714\n",
      "0.11620242030584281\n",
      "0.11477912212136417\n",
      "0.11260298781908926\n",
      "0.10961663864893723\n",
      "0.10656779010972825\n",
      "0.10310786758276828\n",
      "0.0981115766177801\n",
      "0.09164804534241948\n",
      "0.08209726521987895\n",
      "0.06964656464842019\n",
      "0.05324066370913017\n",
      "0.03556441198024555\n",
      "0.017307921500079454\n",
      "0.0018472906403940886\n"
     ]
    }
   ],
   "source": [
    "for conf_th in np.arange(0.01, 1, 0.01):\n",
    "    mAP, _ = get_mean_average_precision(ann_df, pred_df[pred_df.rad_id >= conf_th])\n",
    "    print(mAP)"
   ]
  },
  {
   "cell_type": "code",
   "execution_count": null,
   "id": "operating-sound",
   "metadata": {},
   "outputs": [],
   "source": []
  }
 ],
 "metadata": {
  "kernelspec": {
   "display_name": "Python (open-mmlab)",
   "language": "python",
   "name": "open-mmlab"
  },
  "language_info": {
   "codemirror_mode": {
    "name": "ipython",
    "version": 3
   },
   "file_extension": ".py",
   "mimetype": "text/x-python",
   "name": "python",
   "nbconvert_exporter": "python",
   "pygments_lexer": "ipython3",
   "version": "3.7.9"
  }
 },
 "nbformat": 4,
 "nbformat_minor": 5
}
