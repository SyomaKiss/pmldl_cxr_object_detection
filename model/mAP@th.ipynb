{
 "cells": [
  {
   "cell_type": "code",
   "execution_count": 15,
   "id": "frequent-ireland",
   "metadata": {},
   "outputs": [],
   "source": [
    "import pandas as pd\n",
    "import numpy as np\n",
    "import os.path as osp\n",
    "from tqdm.notebook import tqdm\n",
    "\n",
    "from map_boxes import mean_average_precision_for_boxes\n",
    "\n",
    "def norm_coordinates(df, meta_df):\n",
    "    '''\n",
    "    INPLACE !!!\n",
    "    '''\n",
    "    if max([df.x_min.max(), df.x_max.max(), df.y_min.max(), df.y_max.max()]) <= 1:\n",
    "        raise ValueError('Bbox coordinates are already normalized')\n",
    "        return\n",
    "    df['height'] = df.image_id.apply(lambda x: meta_df.loc[x, 'rows'])\n",
    "    df['width'] = df.image_id.apply(lambda x: meta_df.loc[x, 'columns'])\n",
    "    df['x_min'] = df.x_min / df.width\n",
    "    df['x_max'] = df.x_max / df.width\n",
    "    df['y_min'] = df.y_min / df.height\n",
    "    df['y_max'] = df.y_max / df.height\n",
    "\n",
    "\n",
    "def get_mean_average_precision(annotation_path, predictions_path, iou_threshold=0.4, meta_path='/home/semyon/data/VinBigData/train_meta.csv', verbose=False):\n",
    "    '''\n",
    "    param: annotation_path: path to .csv with columns ['image_id', 'class_name', 'x_min', 'x_max', 'y_min', 'y_max']\n",
    "    param: predictions_path: path to .csv with columns ['image_id', 'class_name', 'rad_id', 'x_min', 'x_max', 'y_min', 'y_max'], where 'rad_id' contains confidence\n",
    "    '''\n",
    "    if isinstance(annotation_path, pd.DataFrame) and isinstance(predictions_path, pd.DataFrame):\n",
    "        ann_df = annotation_path.copy()\n",
    "        pred_df = predictions_path.copy()\n",
    "    else:\n",
    "        ann_df = pd.read_csv(annotation_path)\n",
    "        pred_df = pd.read_csv(predictions_path)\n",
    "\n",
    "    meta_df = pd.read_csv(meta_path).set_index('image_id')\n",
    "    \n",
    "    # inplace norm coordinates\n",
    "    norm_coordinates(ann_df, meta_df)\n",
    "    norm_coordinates(pred_df, meta_df)\n",
    "    \n",
    "    # annotations\n",
    "    new_cols = ['ImageID', 'LabelName', 'XMin', 'XMax', 'YMin', 'YMax']\n",
    "    old_cols = ['image_id', 'class_name', 'x_min', 'x_max', 'y_min', 'y_max']\n",
    "    for new_col_name, old_col_name in zip(new_cols, old_cols):\n",
    "        ann_df[new_col_name] = ann_df[old_col_name]\n",
    "    # predictions\n",
    "    new_cols = ['ImageID', 'LabelName', 'Conf', 'XMin', 'XMax', 'YMin', 'YMax']\n",
    "    old_cols = ['image_id', 'class_name', 'rad_id', 'x_min', 'x_max', 'y_min', 'y_max']\n",
    "    for new_col_name, old_col_name in zip(new_cols, old_cols):\n",
    "        pred_df[new_col_name] = pred_df[old_col_name]\n",
    "        \n",
    "    ann = ann_df[['ImageID', 'LabelName', 'XMin', 'XMax', 'YMin', 'YMax']].values\n",
    "    pred = pred_df[['ImageID', 'LabelName', 'Conf', 'XMin', 'XMax', 'YMin', 'YMax']].values\n",
    "    mean_ap, average_precisions = mean_average_precision_for_boxes(ann, pred, iou_threshold=iou_threshold, verbose=verbose)\n",
    "    return mean_ap, average_precisions"
   ]
  },
  {
   "cell_type": "code",
   "execution_count": 3,
   "id": "banned-roulette",
   "metadata": {},
   "outputs": [],
   "source": [
    "annotations_file = '/home/semyon/data/VinBigData/custom_dfs/weighted_boxes_fusion_iou-0.20_fold-0.csv'\n",
    "detections_file = '/home/semyon/projects/vinbigdata/eda/dfs/result.csv'\n",
    "\n",
    "ann_df = pd.read_csv(annotations_file)\n",
    "pred_df = pd.read_csv(detections_file)\n",
    "\n",
    "meta_path = '/home/semyon/data/VinBigData/train_meta.csv'\n",
    "meta_df = pd.read_csv(meta_path).set_index('image_id')\n",
    "\n",
    "f['height'] = df.image_id.apply(lambda x: meta_df.loc[x, 'rows'])\n",
    "df['width'] = df.image_id.apply(lambda x: meta_df.loc[x, 'columns'])"
   ]
  },
  {
   "cell_type": "code",
   "execution_count": 4,
   "id": "stuffed-sandwich",
   "metadata": {},
   "outputs": [],
   "source": [
    "norm_coordinates(ann_df, meta_df)\n",
    "norm_coordinates(pred_df, meta_df)"
   ]
  },
  {
   "cell_type": "code",
   "execution_count": 5,
   "id": "joint-editing",
   "metadata": {},
   "outputs": [],
   "source": [
    "# annotations\n",
    "new_cols = ['ImageID', 'LabelName', 'XMin', 'XMax', 'YMin', 'YMax']\n",
    "old_cols = ['image_id', 'class_name', 'x_min', 'x_max', 'y_min', 'y_max']\n",
    "for new_col_name, old_col_name in zip(new_cols, old_cols):\n",
    "    ann_df[new_col_name] = ann_df[old_col_name]\n",
    "# predictions\n",
    "new_cols = ['ImageID', 'LabelName', 'Conf', 'XMin', 'XMax', 'YMin', 'YMax']\n",
    "old_cols = ['image_id', 'class_name', 'rad_id', 'x_min', 'x_max', 'y_min', 'y_max']\n",
    "for new_col_name, old_col_name in zip(new_cols, old_cols):\n",
    "    pred_df[new_col_name] = pred_df[old_col_name]"
   ]
  },
  {
   "cell_type": "code",
   "execution_count": 13,
   "id": "smaller-diversity",
   "metadata": {},
   "outputs": [
    {
     "name": "stdout",
     "output_type": "stream",
     "text": [
      "Number of files in annotations: 885\n",
      "Number of files in predictions: 885\n",
      "Unique classes: 14\n",
      "Detections length: 885\n",
      "Annotations length: 885\n",
      "Aortic enlargement             | 0.918060 |     620\n",
      "Atelectasis                    | 0.150863 |      43\n",
      "Calcification                  | 0.048550 |     142\n",
      "Cardiomegaly                   | 0.931139 |     464\n",
      "Consolidation                  | 0.222844 |      82\n",
      "ILD                            | 0.195136 |     125\n",
      "Infiltration                   | 0.159394 |     172\n",
      "Lung Opacity                   | 0.181422 |     368\n",
      "Nodule/Mass                    | 0.137577 |     388\n",
      "Other lesion                   | 0.033874 |     323\n",
      "Pleural effusion               | 0.353775 |     285\n",
      "Pleural thickening             | 0.140186 |     679\n",
      "Pneumothorax                   | 0.009797 |      21\n",
      "Pulmonary fibrosis             | 0.168504 |     539\n",
      "mAP: 0.260794\n"
     ]
    }
   ],
   "source": [
    "ann = ann_df[['ImageID', 'LabelName', 'XMin', 'XMax', 'YMin', 'YMax']].values\n",
    "pred = pred_df[['ImageID', 'LabelName', 'Conf', 'XMin', 'XMax', 'YMin', 'YMax']].values\n",
    "mean_ap, average_precisions = mean_average_precision_for_boxes(ann, pred, iou_threshold=0.5)"
   ]
  },
  {
   "cell_type": "code",
   "execution_count": 14,
   "id": "beneficial-appraisal",
   "metadata": {},
   "outputs": [
    {
     "data": {
      "text/plain": [
       "0.2607943737482015"
      ]
     },
     "execution_count": 14,
     "metadata": {},
     "output_type": "execute_result"
    }
   ],
   "source": [
    "mean_ap"
   ]
  },
  {
   "cell_type": "code",
   "execution_count": 11,
   "id": "operating-delay",
   "metadata": {},
   "outputs": [
    {
     "data": {
      "text/plain": [
       "{'Aortic enlargement': (0.9323038503045298, 620.0),\n",
       " 'Atelectasis': (0.16313835078966057, 43.0),\n",
       " 'Calcification': (0.06737020214309525, 142.0),\n",
       " 'Cardiomegaly': (0.9386996911931025, 464.0),\n",
       " 'Consolidation': (0.3344506276855171, 82.0),\n",
       " 'ILD': (0.23406234899666, 125.0),\n",
       " 'Infiltration': (0.23076311683549677, 172.0),\n",
       " 'Lung Opacity': (0.23774434003489092, 368.0),\n",
       " 'Nodule/Mass': (0.17146370596318275, 388.0),\n",
       " 'Other lesion': (0.05206959399058348, 323.0),\n",
       " 'Pleural effusion': (0.4635037116054489, 285.0),\n",
       " 'Pleural thickening': (0.2123565519755393, 679.0),\n",
       " 'Pneumothorax': (0.017444085686035674, 21.0),\n",
       " 'Pulmonary fibrosis': (0.21927258454113693, 539.0)}"
      ]
     },
     "execution_count": 11,
     "metadata": {},
     "output_type": "execute_result"
    }
   ],
   "source": [
    "average_precisions"
   ]
  },
  {
   "cell_type": "code",
   "execution_count": null,
   "id": "systematic-brain",
   "metadata": {},
   "outputs": [],
   "source": []
  }
 ],
 "metadata": {
  "kernelspec": {
   "display_name": "Python (open-mmlab)",
   "language": "python",
   "name": "open-mmlab"
  },
  "language_info": {
   "codemirror_mode": {
    "name": "ipython",
    "version": 3
   },
   "file_extension": ".py",
   "mimetype": "text/x-python",
   "name": "python",
   "nbconvert_exporter": "python",
   "pygments_lexer": "ipython3",
   "version": "3.7.9"
  }
 },
 "nbformat": 4,
 "nbformat_minor": 5
}
