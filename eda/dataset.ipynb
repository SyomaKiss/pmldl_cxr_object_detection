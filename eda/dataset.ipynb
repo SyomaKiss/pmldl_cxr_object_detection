{
 "cells": [
  {
   "cell_type": "code",
   "execution_count": 12,
   "metadata": {},
   "outputs": [
    {
     "name": "stdout",
     "output_type": "stream",
     "text": [
      "['Aortic enlargement', 'Cardiomegaly', 'Cardiomegaly', 'Cardiomegaly', 'Pleural effusion', 'Pleural thickening']\n"
     ]
    }
   ],
   "source": [
    "import pandas as pd\n",
    "import cv2\n",
    "import numpy as np\n",
    "from pathlib import Path\n",
    "\n",
    "from torch.utils.data import Dataset, DataLoader\n",
    "\n",
    "class CXRDatasetrFull(Dataset):\n",
    "    def __init__(self, root, csv_path='train.csv'):\n",
    "        '''\n",
    "        param: csv_path: \n",
    "        param: meta_path: initial resolutions\n",
    "        '''\n",
    "        self.root = Path(root)\n",
    "        self.df = pd.read_csv(csv_path)\n",
    "        self.ids = self.df.image_id.unique()\n",
    "\n",
    "    def __len__(self, ):\n",
    "        return len(self.ids)\n",
    "\n",
    "    def __getitem__(self, idx):\n",
    "        name = self.ids[idx]\n",
    "        tmp = self.df[self.df.image_id == name].copy()\n",
    "        path = self.root / f'{name}.npy'\n",
    "        img = np.load(str(path))\n",
    "\n",
    "        # rescale boxes\n",
    "\n",
    "        tmp = tmp.sort_values(['class_name', 'rad_id'])\n",
    "\n",
    "        meta = tmp[['class_name', 'class_id', 'rad_id']].to_dict('list')\n",
    "        bboxes = tmp[['x_min', 'y_min', 'x_max', 'y_max']].values.astype(np.uint16)\n",
    "\n",
    "        return {'image': img, **meta, 'bboxes': bboxes}\n",
    "\n",
    "    def get_by_name(self, name):\n",
    "        return self.__getitem__(list(self.ids).index(name))\n",
    "\n",
    "if __name__ == '__main__':\n",
    "    csv_path = '/home/semyon/data/VinBigData/train.csv'\n",
    "    root = '/home/semyon/data/VinBigData/train/'\n",
    "    d = CXRDatasetrFull(root, csv_path)\n",
    "    entry = d[2]\n",
    "    img = entry['image']\n",
    "    rad_ids = entry['rad_id']\n",
    "    class_names = entry['class_name']\n",
    "    class_id = entry['class_id']\n",
    "    bboxes = entry['bboxes']\n",
    "    print(class_names)"
   ]
  },
  {
   "cell_type": "code",
   "execution_count": 13,
   "metadata": {},
   "outputs": [
    {
     "data": {
      "text/plain": [
       "(2336, 2080)"
      ]
     },
     "execution_count": 13,
     "metadata": {},
     "output_type": "execute_result"
    }
   ],
   "source": [
    "img.shape"
   ]
  },
  {
   "cell_type": "code",
   "execution_count": null,
   "metadata": {},
   "outputs": [],
   "source": []
  }
 ],
 "metadata": {
  "kernelspec": {
   "display_name": "Python (kaggle)",
   "language": "python",
   "name": "kaggle"
  },
  "language_info": {
   "codemirror_mode": {
    "name": "ipython",
    "version": 3
   },
   "file_extension": ".py",
   "mimetype": "text/x-python",
   "name": "python",
   "nbconvert_exporter": "python",
   "pygments_lexer": "ipython3",
   "version": "3.7.9"
  }
 },
 "nbformat": 4,
 "nbformat_minor": 4
}
